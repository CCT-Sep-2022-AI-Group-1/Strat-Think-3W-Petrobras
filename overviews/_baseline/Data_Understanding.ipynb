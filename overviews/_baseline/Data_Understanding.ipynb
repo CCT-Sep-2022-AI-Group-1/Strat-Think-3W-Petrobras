{
 "cells": [
  {
   "cell_type": "markdown",
   "id": "4f3314ba",
   "metadata": {},
   "source": [
    "# Data Understanding"
   ]
  },
  {
   "cell_type": "markdown",
   "id": "c3e442bf",
   "metadata": {},
   "source": [
    "## Data Characterisation\n",
    "Preprocessing a dataset through data characterisation involves summarising the features and characteristics present in the data using statistical measures and visualisations techniques such as bar charts and scatter plots. This helps to provide a better understanding of the data that will be used to train the ML model. Characterizing the data can help to identify any biases, patterns, or trends present in the data, as well as any missing or irrelevant data that may need to be addressed."
   ]
  },
  {
   "cell_type": "markdown",
   "id": "29d0978c",
   "metadata": {},
   "source": [
    "## Exploratory Data Analysis"
   ]
  }
 ],
 "metadata": {
  "kernelspec": {
   "display_name": "Python 3 (ipykernel)",
   "language": "python",
   "name": "python3"
  },
  "language_info": {
   "codemirror_mode": {
    "name": "ipython",
    "version": 3
   },
   "file_extension": ".py",
   "mimetype": "text/x-python",
   "name": "python",
   "nbconvert_exporter": "python",
   "pygments_lexer": "ipython3",
   "version": "3.9.15"
  }
 },
 "nbformat": 4,
 "nbformat_minor": 5
}
