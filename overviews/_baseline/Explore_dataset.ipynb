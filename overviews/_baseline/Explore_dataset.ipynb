{
 "cells": [
  {
   "cell_type": "markdown",
   "id": "e9e96c1a",
   "metadata": {},
   "source": [
    "# Strategic Thinking CA1"
   ]
  },
  {
   "cell_type": "code",
   "execution_count": 1,
   "id": "02a69a3b",
   "metadata": {
    "ExecuteTime": {
     "end_time": "2022-11-17T11:28:58.281245Z",
     "start_time": "2022-11-17T11:28:55.991830Z"
    }
   },
   "outputs": [],
   "source": [
    "import warnings\n",
    "warnings.filterwarnings(\"ignore\")\n",
    "\n",
    "import matplotlib.pyplot as plt\n",
    "%matplotlib inline\n",
    "\n",
    "import pandas as pd\n",
    "# from sklearn.model_selection import train_test_split\n",
    "# from sklearn.preprocessing import StandardScaler\n",
    "\n",
    "import pandas_profiling\n",
    "from pandas_profiling import ProfileReport\n",
    "\n",
    "import glob\n",
    "import os"
   ]
  },
  {
   "cell_type": "markdown",
   "id": "e0eb8439",
   "metadata": {},
   "source": [
    "## Data Understanding\n"
   ]
  },
  {
   "cell_type": "code",
   "execution_count": 2,
   "id": "3057ff77",
   "metadata": {
    "ExecuteTime": {
     "end_time": "2022-11-17T11:28:58.882142Z",
     "start_time": "2022-11-17T11:28:58.286260Z"
    }
   },
   "outputs": [],
   "source": [
    "df = pd.read_csv('3Wdataset.csv')"
   ]
  },
  {
   "cell_type": "code",
   "execution_count": 3,
   "id": "b317c0cf",
   "metadata": {
    "ExecuteTime": {
     "end_time": "2022-11-17T11:29:17.612108Z",
     "start_time": "2022-11-17T11:28:58.887106Z"
    }
   },
   "outputs": [
    {
     "name": "stdout",
     "output_type": "stream",
     "text": [
      "<class 'pandas.core.frame.DataFrame'>\n",
      "RangeIndex: 50822124 entries, 0 to 50822123\n",
      "Data columns (total 12 columns):\n",
      " #   Column      Dtype  \n",
      "---  ------      -----  \n",
      " 0   label       int64  \n",
      " 1   well        object \n",
      " 2   id          int64  \n",
      " 3   P-PDG       float64\n",
      " 4   P-TPT       float64\n",
      " 5   T-TPT       float64\n",
      " 6   P-MON-CKP   float64\n",
      " 7   T-JUS-CKP   float64\n",
      " 8   P-JUS-CKGL  float64\n",
      " 9   T-JUS-CKGL  float64\n",
      " 10  QGL         float64\n",
      " 11  class       float64\n",
      "dtypes: float64(9), int64(2), object(1)\n",
      "memory usage: 4.5+ GB\n"
     ]
    },
    {
     "data": {
      "text/plain": [
       "(50822124, 12)"
      ]
     },
     "execution_count": 3,
     "metadata": {},
     "output_type": "execute_result"
    }
   ],
   "source": [
    "df.info()\n",
    "df.shape"
   ]
  },
  {
   "cell_type": "code",
   "execution_count": 4,
   "id": "1ce295cc",
   "metadata": {},
   "outputs": [
    {
     "data": {
      "text/html": [
       "<div>\n",
       "<style scoped>\n",
       "    .dataframe tbody tr th:only-of-type {\n",
       "        vertical-align: middle;\n",
       "    }\n",
       "\n",
       "    .dataframe tbody tr th {\n",
       "        vertical-align: top;\n",
       "    }\n",
       "\n",
       "    .dataframe thead th {\n",
       "        text-align: right;\n",
       "    }\n",
       "</style>\n",
       "<table border=\"1\" class=\"dataframe\">\n",
       "  <thead>\n",
       "    <tr style=\"text-align: right;\">\n",
       "      <th></th>\n",
       "      <th>label</th>\n",
       "      <th>id</th>\n",
       "      <th>P-PDG</th>\n",
       "      <th>P-TPT</th>\n",
       "      <th>T-TPT</th>\n",
       "      <th>P-MON-CKP</th>\n",
       "      <th>T-JUS-CKP</th>\n",
       "      <th>P-JUS-CKGL</th>\n",
       "      <th>T-JUS-CKGL</th>\n",
       "      <th>QGL</th>\n",
       "      <th>class</th>\n",
       "    </tr>\n",
       "  </thead>\n",
       "  <tbody>\n",
       "    <tr>\n",
       "      <th>count</th>\n",
       "      <td>5.082212e+07</td>\n",
       "      <td>5.082212e+07</td>\n",
       "      <td>5.081625e+07</td>\n",
       "      <td>5.081594e+07</td>\n",
       "      <td>4.501115e+07</td>\n",
       "      <td>4.970050e+07</td>\n",
       "      <td>4.921043e+07</td>\n",
       "      <td>1.000749e+07</td>\n",
       "      <td>0.0</td>\n",
       "      <td>1.069126e+07</td>\n",
       "      <td>5.081736e+07</td>\n",
       "    </tr>\n",
       "    <tr>\n",
       "      <th>mean</th>\n",
       "      <td>3.387997e+00</td>\n",
       "      <td>5.536792e+12</td>\n",
       "      <td>-4.923179e+39</td>\n",
       "      <td>1.467257e+07</td>\n",
       "      <td>1.044371e+02</td>\n",
       "      <td>3.587708e+06</td>\n",
       "      <td>7.559043e+01</td>\n",
       "      <td>4.052477e+06</td>\n",
       "      <td>NaN</td>\n",
       "      <td>1.694197e-01</td>\n",
       "      <td>2.909494e+01</td>\n",
       "    </tr>\n",
       "    <tr>\n",
       "      <th>std</th>\n",
       "      <td>2.526282e+00</td>\n",
       "      <td>9.000317e+12</td>\n",
       "      <td>7.606369e+40</td>\n",
       "      <td>4.379132e+07</td>\n",
       "      <td>2.727372e+01</td>\n",
       "      <td>3.354934e+06</td>\n",
       "      <td>2.147815e+01</td>\n",
       "      <td>5.221975e+06</td>\n",
       "      <td>NaN</td>\n",
       "      <td>4.591983e-01</td>\n",
       "      <td>4.440501e+01</td>\n",
       "    </tr>\n",
       "    <tr>\n",
       "      <th>min</th>\n",
       "      <td>0.000000e+00</td>\n",
       "      <td>1.000000e+00</td>\n",
       "      <td>-1.180116e+42</td>\n",
       "      <td>0.000000e+00</td>\n",
       "      <td>0.000000e+00</td>\n",
       "      <td>-8.317492e+03</td>\n",
       "      <td>-2.020000e+00</td>\n",
       "      <td>-4.976717e+05</td>\n",
       "      <td>NaN</td>\n",
       "      <td>0.000000e+00</td>\n",
       "      <td>0.000000e+00</td>\n",
       "    </tr>\n",
       "    <tr>\n",
       "      <th>25%</th>\n",
       "      <td>1.000000e+00</td>\n",
       "      <td>4.300000e+01</td>\n",
       "      <td>1.161616e+07</td>\n",
       "      <td>1.099830e+07</td>\n",
       "      <td>9.697665e+01</td>\n",
       "      <td>1.186575e+06</td>\n",
       "      <td>6.702149e+01</td>\n",
       "      <td>2.312238e+06</td>\n",
       "      <td>NaN</td>\n",
       "      <td>0.000000e+00</td>\n",
       "      <td>1.000000e+00</td>\n",
       "    </tr>\n",
       "    <tr>\n",
       "      <th>50%</th>\n",
       "      <td>4.000000e+00</td>\n",
       "      <td>1.290000e+02</td>\n",
       "      <td>2.189268e+07</td>\n",
       "      <td>1.452439e+07</td>\n",
       "      <td>1.167546e+02</td>\n",
       "      <td>1.963778e+06</td>\n",
       "      <td>7.735565e+01</td>\n",
       "      <td>2.332198e+06</td>\n",
       "      <td>NaN</td>\n",
       "      <td>0.000000e+00</td>\n",
       "      <td>5.000000e+00</td>\n",
       "    </tr>\n",
       "    <tr>\n",
       "      <th>75%</th>\n",
       "      <td>5.000000e+00</td>\n",
       "      <td>2.014032e+13</td>\n",
       "      <td>2.605564e+07</td>\n",
       "      <td>1.755830e+07</td>\n",
       "      <td>1.217072e+02</td>\n",
       "      <td>5.116738e+06</td>\n",
       "      <td>8.478074e+01</td>\n",
       "      <td>3.430441e+06</td>\n",
       "      <td>NaN</td>\n",
       "      <td>0.000000e+00</td>\n",
       "      <td>1.010000e+02</td>\n",
       "    </tr>\n",
       "    <tr>\n",
       "      <th>max</th>\n",
       "      <td>8.000000e+00</td>\n",
       "      <td>2.018062e+13</td>\n",
       "      <td>4.485805e+07</td>\n",
       "      <td>2.941990e+09</td>\n",
       "      <td>1.277401e+02</td>\n",
       "      <td>1.303717e+07</td>\n",
       "      <td>1.730961e+02</td>\n",
       "      <td>2.106982e+07</td>\n",
       "      <td>NaN</td>\n",
       "      <td>4.146513e+00</td>\n",
       "      <td>1.080000e+02</td>\n",
       "    </tr>\n",
       "  </tbody>\n",
       "</table>\n",
       "</div>"
      ],
      "text/plain": [
       "              label            id         P-PDG         P-TPT         T-TPT  \\\n",
       "count  5.082212e+07  5.082212e+07  5.081625e+07  5.081594e+07  4.501115e+07   \n",
       "mean   3.387997e+00  5.536792e+12 -4.923179e+39  1.467257e+07  1.044371e+02   \n",
       "std    2.526282e+00  9.000317e+12  7.606369e+40  4.379132e+07  2.727372e+01   \n",
       "min    0.000000e+00  1.000000e+00 -1.180116e+42  0.000000e+00  0.000000e+00   \n",
       "25%    1.000000e+00  4.300000e+01  1.161616e+07  1.099830e+07  9.697665e+01   \n",
       "50%    4.000000e+00  1.290000e+02  2.189268e+07  1.452439e+07  1.167546e+02   \n",
       "75%    5.000000e+00  2.014032e+13  2.605564e+07  1.755830e+07  1.217072e+02   \n",
       "max    8.000000e+00  2.018062e+13  4.485805e+07  2.941990e+09  1.277401e+02   \n",
       "\n",
       "          P-MON-CKP     T-JUS-CKP    P-JUS-CKGL  T-JUS-CKGL           QGL  \\\n",
       "count  4.970050e+07  4.921043e+07  1.000749e+07         0.0  1.069126e+07   \n",
       "mean   3.587708e+06  7.559043e+01  4.052477e+06         NaN  1.694197e-01   \n",
       "std    3.354934e+06  2.147815e+01  5.221975e+06         NaN  4.591983e-01   \n",
       "min   -8.317492e+03 -2.020000e+00 -4.976717e+05         NaN  0.000000e+00   \n",
       "25%    1.186575e+06  6.702149e+01  2.312238e+06         NaN  0.000000e+00   \n",
       "50%    1.963778e+06  7.735565e+01  2.332198e+06         NaN  0.000000e+00   \n",
       "75%    5.116738e+06  8.478074e+01  3.430441e+06         NaN  0.000000e+00   \n",
       "max    1.303717e+07  1.730961e+02  2.106982e+07         NaN  4.146513e+00   \n",
       "\n",
       "              class  \n",
       "count  5.081736e+07  \n",
       "mean   2.909494e+01  \n",
       "std    4.440501e+01  \n",
       "min    0.000000e+00  \n",
       "25%    1.000000e+00  \n",
       "50%    5.000000e+00  \n",
       "75%    1.010000e+02  \n",
       "max    1.080000e+02  "
      ]
     },
     "execution_count": 4,
     "metadata": {},
     "output_type": "execute_result"
    }
   ],
   "source": [
    "df.describe()"
   ]
  },
  {
   "cell_type": "markdown",
   "id": "2fae2544",
   "metadata": {},
   "source": [
    "Generating EDA report and saving to HTML file"
   ]
  },
  {
   "cell_type": "code",
   "execution_count": 5,
   "id": "a40f26a9",
   "metadata": {
    "ExecuteTime": {
     "end_time": "2022-11-17T11:29:19.008757Z",
     "start_time": "2022-11-17T11:29:18.995753Z"
    }
   },
   "outputs": [],
   "source": [
    "#from dataprep.eda import create_report\n",
    "#report = create_report(df)\n",
    "#report.save('3W Dataset EDA Report')"
   ]
  },
  {
   "cell_type": "code",
   "execution_count": 6,
   "id": "57ec4fa3",
   "metadata": {
    "ExecuteTime": {
     "end_time": "2022-11-17T13:01:37.917092Z",
     "start_time": "2022-11-17T13:01:37.898190Z"
    }
   },
   "outputs": [],
   "source": [
    "df = df.drop(columns=['T-JUS-CKGL']) #100% NaN"
   ]
  },
  {
   "cell_type": "code",
   "execution_count": 7,
   "id": "56347645",
   "metadata": {
    "ExecuteTime": {
     "end_time": "2022-11-17T13:01:38.384169Z",
     "start_time": "2022-11-17T13:01:38.371266Z"
    }
   },
   "outputs": [
    {
     "data": {
      "text/html": [
       "<div>\n",
       "<style scoped>\n",
       "    .dataframe tbody tr th:only-of-type {\n",
       "        vertical-align: middle;\n",
       "    }\n",
       "\n",
       "    .dataframe tbody tr th {\n",
       "        vertical-align: top;\n",
       "    }\n",
       "\n",
       "    .dataframe thead th {\n",
       "        text-align: right;\n",
       "    }\n",
       "</style>\n",
       "<table border=\"1\" class=\"dataframe\">\n",
       "  <thead>\n",
       "    <tr style=\"text-align: right;\">\n",
       "      <th></th>\n",
       "      <th>label</th>\n",
       "      <th>well</th>\n",
       "      <th>id</th>\n",
       "      <th>P-PDG</th>\n",
       "      <th>P-TPT</th>\n",
       "      <th>T-TPT</th>\n",
       "      <th>P-MON-CKP</th>\n",
       "      <th>T-JUS-CKP</th>\n",
       "      <th>P-JUS-CKGL</th>\n",
       "      <th>QGL</th>\n",
       "      <th>class</th>\n",
       "    </tr>\n",
       "  </thead>\n",
       "  <tbody>\n",
       "    <tr>\n",
       "      <th>0</th>\n",
       "      <td>0</td>\n",
       "      <td>WELL-00002</td>\n",
       "      <td>20170625220127</td>\n",
       "      <td>0.0</td>\n",
       "      <td>8698015.0</td>\n",
       "      <td>117.6015</td>\n",
       "      <td>2142158.0</td>\n",
       "      <td>75.63453</td>\n",
       "      <td>2310426.0</td>\n",
       "      <td>0.0</td>\n",
       "      <td>0.0</td>\n",
       "    </tr>\n",
       "    <tr>\n",
       "      <th>1</th>\n",
       "      <td>0</td>\n",
       "      <td>WELL-00002</td>\n",
       "      <td>20170625220127</td>\n",
       "      <td>0.0</td>\n",
       "      <td>8698015.0</td>\n",
       "      <td>117.6014</td>\n",
       "      <td>2172395.0</td>\n",
       "      <td>75.65491</td>\n",
       "      <td>2310427.0</td>\n",
       "      <td>0.0</td>\n",
       "      <td>0.0</td>\n",
       "    </tr>\n",
       "    <tr>\n",
       "      <th>2</th>\n",
       "      <td>0</td>\n",
       "      <td>WELL-00002</td>\n",
       "      <td>20170625220127</td>\n",
       "      <td>0.0</td>\n",
       "      <td>8698015.0</td>\n",
       "      <td>117.6013</td>\n",
       "      <td>2202631.0</td>\n",
       "      <td>75.67529</td>\n",
       "      <td>2310427.0</td>\n",
       "      <td>0.0</td>\n",
       "      <td>0.0</td>\n",
       "    </tr>\n",
       "    <tr>\n",
       "      <th>3</th>\n",
       "      <td>0</td>\n",
       "      <td>WELL-00002</td>\n",
       "      <td>20170625220127</td>\n",
       "      <td>0.0</td>\n",
       "      <td>8698015.0</td>\n",
       "      <td>117.6012</td>\n",
       "      <td>2180472.0</td>\n",
       "      <td>75.69567</td>\n",
       "      <td>2310427.0</td>\n",
       "      <td>0.0</td>\n",
       "      <td>0.0</td>\n",
       "    </tr>\n",
       "    <tr>\n",
       "      <th>4</th>\n",
       "      <td>0</td>\n",
       "      <td>WELL-00002</td>\n",
       "      <td>20170625220127</td>\n",
       "      <td>0.0</td>\n",
       "      <td>8698015.0</td>\n",
       "      <td>117.6011</td>\n",
       "      <td>2158313.0</td>\n",
       "      <td>75.71606</td>\n",
       "      <td>2310428.0</td>\n",
       "      <td>0.0</td>\n",
       "      <td>0.0</td>\n",
       "    </tr>\n",
       "  </tbody>\n",
       "</table>\n",
       "</div>"
      ],
      "text/plain": [
       "   label        well              id  P-PDG      P-TPT     T-TPT  P-MON-CKP  \\\n",
       "0      0  WELL-00002  20170625220127    0.0  8698015.0  117.6015  2142158.0   \n",
       "1      0  WELL-00002  20170625220127    0.0  8698015.0  117.6014  2172395.0   \n",
       "2      0  WELL-00002  20170625220127    0.0  8698015.0  117.6013  2202631.0   \n",
       "3      0  WELL-00002  20170625220127    0.0  8698015.0  117.6012  2180472.0   \n",
       "4      0  WELL-00002  20170625220127    0.0  8698015.0  117.6011  2158313.0   \n",
       "\n",
       "   T-JUS-CKP  P-JUS-CKGL  QGL  class  \n",
       "0   75.63453   2310426.0  0.0    0.0  \n",
       "1   75.65491   2310427.0  0.0    0.0  \n",
       "2   75.67529   2310427.0  0.0    0.0  \n",
       "3   75.69567   2310427.0  0.0    0.0  \n",
       "4   75.71606   2310428.0  0.0    0.0  "
      ]
     },
     "execution_count": 7,
     "metadata": {},
     "output_type": "execute_result"
    }
   ],
   "source": [
    "df.head()"
   ]
  },
  {
   "cell_type": "markdown",
   "id": "df506fd1",
   "metadata": {},
   "source": [
    "Remove duplicate rows"
   ]
  },
  {
   "cell_type": "code",
   "execution_count": 8,
   "id": "20132113",
   "metadata": {},
   "outputs": [],
   "source": [
    "df.drop_duplicates(inplace = True, ignore_index = True)"
   ]
  },
  {
   "cell_type": "code",
   "execution_count": 9,
   "id": "5fe41e22",
   "metadata": {
    "ExecuteTime": {
     "end_time": "2022-11-17T13:01:39.053160Z",
     "start_time": "2022-11-17T13:01:39.033763Z"
    }
   },
   "outputs": [
    {
     "data": {
      "text/plain": [
       "(47735273, 11)"
      ]
     },
     "execution_count": 9,
     "metadata": {},
     "output_type": "execute_result"
    }
   ],
   "source": [
    "df.shape"
   ]
  },
  {
   "cell_type": "code",
   "execution_count": 10,
   "id": "50ba8ddc",
   "metadata": {},
   "outputs": [],
   "source": [
    "df_nonulls = df.dropna()"
   ]
  },
  {
   "cell_type": "code",
   "execution_count": 11,
   "id": "aa0f1cbb",
   "metadata": {},
   "outputs": [
    {
     "data": {
      "text/plain": [
       "(9955876, 11)"
      ]
     },
     "execution_count": 11,
     "metadata": {},
     "output_type": "execute_result"
    }
   ],
   "source": [
    "df_nonulls.shape"
   ]
  },
  {
   "cell_type": "code",
   "execution_count": 12,
   "id": "367c27e3",
   "metadata": {},
   "outputs": [],
   "source": [
    "#report = create_report(df_nonulls)\n",
    "#report.save('3W Dataset EDA Report - No Null Values')"
   ]
  },
  {
   "cell_type": "code",
   "execution_count": 13,
   "id": "183dde70",
   "metadata": {
    "ExecuteTime": {
     "end_time": "2022-11-17T13:02:01.996540Z",
     "start_time": "2022-11-17T13:02:01.962130Z"
    }
   },
   "outputs": [
    {
     "data": {
      "text/html": [
       "<div>\n",
       "<style scoped>\n",
       "    .dataframe tbody tr th:only-of-type {\n",
       "        vertical-align: middle;\n",
       "    }\n",
       "\n",
       "    .dataframe tbody tr th {\n",
       "        vertical-align: top;\n",
       "    }\n",
       "\n",
       "    .dataframe thead th {\n",
       "        text-align: right;\n",
       "    }\n",
       "</style>\n",
       "<table border=\"1\" class=\"dataframe\">\n",
       "  <thead>\n",
       "    <tr style=\"text-align: right;\">\n",
       "      <th></th>\n",
       "      <th>label</th>\n",
       "      <th>id</th>\n",
       "      <th>P-PDG</th>\n",
       "      <th>P-TPT</th>\n",
       "      <th>T-TPT</th>\n",
       "      <th>P-MON-CKP</th>\n",
       "      <th>T-JUS-CKP</th>\n",
       "      <th>P-JUS-CKGL</th>\n",
       "      <th>QGL</th>\n",
       "      <th>class</th>\n",
       "    </tr>\n",
       "  </thead>\n",
       "  <tbody>\n",
       "    <tr>\n",
       "      <th>count</th>\n",
       "      <td>9.955876e+06</td>\n",
       "      <td>9.955876e+06</td>\n",
       "      <td>9.955876e+06</td>\n",
       "      <td>9.955876e+06</td>\n",
       "      <td>9.955876e+06</td>\n",
       "      <td>9.955876e+06</td>\n",
       "      <td>9.955876e+06</td>\n",
       "      <td>9.955876e+06</td>\n",
       "      <td>9.955876e+06</td>\n",
       "      <td>9.955876e+06</td>\n",
       "    </tr>\n",
       "    <tr>\n",
       "      <th>mean</th>\n",
       "      <td>1.075626e+00</td>\n",
       "      <td>2.016677e+13</td>\n",
       "      <td>-2.505632e+40</td>\n",
       "      <td>1.643428e+07</td>\n",
       "      <td>1.116069e+02</td>\n",
       "      <td>4.426371e+06</td>\n",
       "      <td>7.765858e+01</td>\n",
       "      <td>4.071639e+06</td>\n",
       "      <td>9.927879e-02</td>\n",
       "      <td>7.705904e+00</td>\n",
       "    </tr>\n",
       "    <tr>\n",
       "      <th>std</th>\n",
       "      <td>1.934351e+00</td>\n",
       "      <td>1.096420e+10</td>\n",
       "      <td>1.701222e+41</td>\n",
       "      <td>9.796013e+07</td>\n",
       "      <td>1.807550e+01</td>\n",
       "      <td>3.668974e+06</td>\n",
       "      <td>3.272353e+01</td>\n",
       "      <td>5.223427e+06</td>\n",
       "      <td>3.677854e-01</td>\n",
       "      <td>2.614636e+01</td>\n",
       "    </tr>\n",
       "    <tr>\n",
       "      <th>min</th>\n",
       "      <td>0.000000e+00</td>\n",
       "      <td>2.013110e+13</td>\n",
       "      <td>-1.180116e+42</td>\n",
       "      <td>0.000000e+00</td>\n",
       "      <td>0.000000e+00</td>\n",
       "      <td>7.678105e+05</td>\n",
       "      <td>-2.020000e+00</td>\n",
       "      <td>-4.976717e+05</td>\n",
       "      <td>0.000000e+00</td>\n",
       "      <td>0.000000e+00</td>\n",
       "    </tr>\n",
       "    <tr>\n",
       "      <th>25%</th>\n",
       "      <td>0.000000e+00</td>\n",
       "      <td>2.017022e+13</td>\n",
       "      <td>0.000000e+00</td>\n",
       "      <td>8.478569e+06</td>\n",
       "      <td>1.165482e+02</td>\n",
       "      <td>1.641370e+06</td>\n",
       "      <td>6.871674e+01</td>\n",
       "      <td>2.313912e+06</td>\n",
       "      <td>0.000000e+00</td>\n",
       "      <td>0.000000e+00</td>\n",
       "    </tr>\n",
       "    <tr>\n",
       "      <th>50%</th>\n",
       "      <td>0.000000e+00</td>\n",
       "      <td>2.017053e+13</td>\n",
       "      <td>0.000000e+00</td>\n",
       "      <td>1.385396e+07</td>\n",
       "      <td>1.171824e+02</td>\n",
       "      <td>2.467567e+06</td>\n",
       "      <td>7.373584e+01</td>\n",
       "      <td>2.332347e+06</td>\n",
       "      <td>0.000000e+00</td>\n",
       "      <td>0.000000e+00</td>\n",
       "    </tr>\n",
       "    <tr>\n",
       "      <th>75%</th>\n",
       "      <td>1.000000e+00</td>\n",
       "      <td>2.017082e+13</td>\n",
       "      <td>2.353645e+07</td>\n",
       "      <td>1.653820e+07</td>\n",
       "      <td>1.178883e+02</td>\n",
       "      <td>6.151561e+06</td>\n",
       "      <td>7.852245e+01</td>\n",
       "      <td>3.440053e+06</td>\n",
       "      <td>0.000000e+00</td>\n",
       "      <td>0.000000e+00</td>\n",
       "    </tr>\n",
       "    <tr>\n",
       "      <th>max</th>\n",
       "      <td>7.000000e+00</td>\n",
       "      <td>2.018062e+13</td>\n",
       "      <td>4.485805e+07</td>\n",
       "      <td>2.941990e+09</td>\n",
       "      <td>1.196061e+02</td>\n",
       "      <td>1.235933e+07</td>\n",
       "      <td>1.730961e+02</td>\n",
       "      <td>2.106982e+07</td>\n",
       "      <td>4.146513e+00</td>\n",
       "      <td>1.070000e+02</td>\n",
       "    </tr>\n",
       "  </tbody>\n",
       "</table>\n",
       "</div>"
      ],
      "text/plain": [
       "              label            id         P-PDG         P-TPT         T-TPT  \\\n",
       "count  9.955876e+06  9.955876e+06  9.955876e+06  9.955876e+06  9.955876e+06   \n",
       "mean   1.075626e+00  2.016677e+13 -2.505632e+40  1.643428e+07  1.116069e+02   \n",
       "std    1.934351e+00  1.096420e+10  1.701222e+41  9.796013e+07  1.807550e+01   \n",
       "min    0.000000e+00  2.013110e+13 -1.180116e+42  0.000000e+00  0.000000e+00   \n",
       "25%    0.000000e+00  2.017022e+13  0.000000e+00  8.478569e+06  1.165482e+02   \n",
       "50%    0.000000e+00  2.017053e+13  0.000000e+00  1.385396e+07  1.171824e+02   \n",
       "75%    1.000000e+00  2.017082e+13  2.353645e+07  1.653820e+07  1.178883e+02   \n",
       "max    7.000000e+00  2.018062e+13  4.485805e+07  2.941990e+09  1.196061e+02   \n",
       "\n",
       "          P-MON-CKP     T-JUS-CKP    P-JUS-CKGL           QGL         class  \n",
       "count  9.955876e+06  9.955876e+06  9.955876e+06  9.955876e+06  9.955876e+06  \n",
       "mean   4.426371e+06  7.765858e+01  4.071639e+06  9.927879e-02  7.705904e+00  \n",
       "std    3.668974e+06  3.272353e+01  5.223427e+06  3.677854e-01  2.614636e+01  \n",
       "min    7.678105e+05 -2.020000e+00 -4.976717e+05  0.000000e+00  0.000000e+00  \n",
       "25%    1.641370e+06  6.871674e+01  2.313912e+06  0.000000e+00  0.000000e+00  \n",
       "50%    2.467567e+06  7.373584e+01  2.332347e+06  0.000000e+00  0.000000e+00  \n",
       "75%    6.151561e+06  7.852245e+01  3.440053e+06  0.000000e+00  0.000000e+00  \n",
       "max    1.235933e+07  1.730961e+02  2.106982e+07  4.146513e+00  1.070000e+02  "
      ]
     },
     "execution_count": 13,
     "metadata": {},
     "output_type": "execute_result"
    }
   ],
   "source": [
    "df_nonulls.describe()"
   ]
  },
  {
   "cell_type": "markdown",
   "id": "876207f8",
   "metadata": {},
   "source": [
    "Count rows by class"
   ]
  },
  {
   "cell_type": "code",
   "execution_count": 14,
   "id": "5c2eebbb",
   "metadata": {},
   "outputs": [],
   "source": [
    "df_nonulls = df_nonulls.reset_index()"
   ]
  },
  {
   "cell_type": "code",
   "execution_count": 15,
   "id": "0b681f69",
   "metadata": {},
   "outputs": [
    {
     "data": {
      "text/html": [
       "<div>\n",
       "<style scoped>\n",
       "    .dataframe tbody tr th:only-of-type {\n",
       "        vertical-align: middle;\n",
       "    }\n",
       "\n",
       "    .dataframe tbody tr th {\n",
       "        vertical-align: top;\n",
       "    }\n",
       "\n",
       "    .dataframe thead th {\n",
       "        text-align: right;\n",
       "    }\n",
       "</style>\n",
       "<table border=\"1\" class=\"dataframe\">\n",
       "  <thead>\n",
       "    <tr style=\"text-align: right;\">\n",
       "      <th></th>\n",
       "      <th>index</th>\n",
       "      <th>label</th>\n",
       "      <th>well</th>\n",
       "      <th>id</th>\n",
       "      <th>P-PDG</th>\n",
       "      <th>P-TPT</th>\n",
       "      <th>T-TPT</th>\n",
       "      <th>P-MON-CKP</th>\n",
       "      <th>T-JUS-CKP</th>\n",
       "      <th>P-JUS-CKGL</th>\n",
       "      <th>QGL</th>\n",
       "    </tr>\n",
       "    <tr>\n",
       "      <th>class</th>\n",
       "      <th></th>\n",
       "      <th></th>\n",
       "      <th></th>\n",
       "      <th></th>\n",
       "      <th></th>\n",
       "      <th></th>\n",
       "      <th></th>\n",
       "      <th></th>\n",
       "      <th></th>\n",
       "      <th></th>\n",
       "      <th></th>\n",
       "    </tr>\n",
       "  </thead>\n",
       "  <tbody>\n",
       "    <tr>\n",
       "      <th>0.0</th>\n",
       "      <td>7473635</td>\n",
       "      <td>7473635</td>\n",
       "      <td>7473635</td>\n",
       "      <td>7473635</td>\n",
       "      <td>7473635</td>\n",
       "      <td>7473635</td>\n",
       "      <td>7473635</td>\n",
       "      <td>7473635</td>\n",
       "      <td>7473635</td>\n",
       "      <td>7473635</td>\n",
       "      <td>7473635</td>\n",
       "    </tr>\n",
       "    <tr>\n",
       "      <th>1.0</th>\n",
       "      <td>5870</td>\n",
       "      <td>5870</td>\n",
       "      <td>5870</td>\n",
       "      <td>5870</td>\n",
       "      <td>5870</td>\n",
       "      <td>5870</td>\n",
       "      <td>5870</td>\n",
       "      <td>5870</td>\n",
       "      <td>5870</td>\n",
       "      <td>5870</td>\n",
       "      <td>5870</td>\n",
       "    </tr>\n",
       "    <tr>\n",
       "      <th>2.0</th>\n",
       "      <td>1309</td>\n",
       "      <td>1309</td>\n",
       "      <td>1309</td>\n",
       "      <td>1309</td>\n",
       "      <td>1309</td>\n",
       "      <td>1309</td>\n",
       "      <td>1309</td>\n",
       "      <td>1309</td>\n",
       "      <td>1309</td>\n",
       "      <td>1309</td>\n",
       "      <td>1309</td>\n",
       "    </tr>\n",
       "    <tr>\n",
       "      <th>3.0</th>\n",
       "      <td>568352</td>\n",
       "      <td>568352</td>\n",
       "      <td>568352</td>\n",
       "      <td>568352</td>\n",
       "      <td>568352</td>\n",
       "      <td>568352</td>\n",
       "      <td>568352</td>\n",
       "      <td>568352</td>\n",
       "      <td>568352</td>\n",
       "      <td>568352</td>\n",
       "      <td>568352</td>\n",
       "    </tr>\n",
       "    <tr>\n",
       "      <th>4.0</th>\n",
       "      <td>1218415</td>\n",
       "      <td>1218415</td>\n",
       "      <td>1218415</td>\n",
       "      <td>1218415</td>\n",
       "      <td>1218415</td>\n",
       "      <td>1218415</td>\n",
       "      <td>1218415</td>\n",
       "      <td>1218415</td>\n",
       "      <td>1218415</td>\n",
       "      <td>1218415</td>\n",
       "      <td>1218415</td>\n",
       "    </tr>\n",
       "    <tr>\n",
       "      <th>5.0</th>\n",
       "      <td>10147</td>\n",
       "      <td>10147</td>\n",
       "      <td>10147</td>\n",
       "      <td>10147</td>\n",
       "      <td>10147</td>\n",
       "      <td>10147</td>\n",
       "      <td>10147</td>\n",
       "      <td>10147</td>\n",
       "      <td>10147</td>\n",
       "      <td>10147</td>\n",
       "      <td>10147</td>\n",
       "    </tr>\n",
       "    <tr>\n",
       "      <th>6.0</th>\n",
       "      <td>12427</td>\n",
       "      <td>12427</td>\n",
       "      <td>12427</td>\n",
       "      <td>12427</td>\n",
       "      <td>12427</td>\n",
       "      <td>12427</td>\n",
       "      <td>12427</td>\n",
       "      <td>12427</td>\n",
       "      <td>12427</td>\n",
       "      <td>12427</td>\n",
       "      <td>12427</td>\n",
       "    </tr>\n",
       "    <tr>\n",
       "      <th>7.0</th>\n",
       "      <td>821</td>\n",
       "      <td>821</td>\n",
       "      <td>821</td>\n",
       "      <td>821</td>\n",
       "      <td>821</td>\n",
       "      <td>821</td>\n",
       "      <td>821</td>\n",
       "      <td>821</td>\n",
       "      <td>821</td>\n",
       "      <td>821</td>\n",
       "      <td>821</td>\n",
       "    </tr>\n",
       "    <tr>\n",
       "      <th>101.0</th>\n",
       "      <td>77814</td>\n",
       "      <td>77814</td>\n",
       "      <td>77814</td>\n",
       "      <td>77814</td>\n",
       "      <td>77814</td>\n",
       "      <td>77814</td>\n",
       "      <td>77814</td>\n",
       "      <td>77814</td>\n",
       "      <td>77814</td>\n",
       "      <td>77814</td>\n",
       "      <td>77814</td>\n",
       "    </tr>\n",
       "    <tr>\n",
       "      <th>102.0</th>\n",
       "      <td>7172</td>\n",
       "      <td>7172</td>\n",
       "      <td>7172</td>\n",
       "      <td>7172</td>\n",
       "      <td>7172</td>\n",
       "      <td>7172</td>\n",
       "      <td>7172</td>\n",
       "      <td>7172</td>\n",
       "      <td>7172</td>\n",
       "      <td>7172</td>\n",
       "      <td>7172</td>\n",
       "    </tr>\n",
       "    <tr>\n",
       "      <th>105.0</th>\n",
       "      <td>318158</td>\n",
       "      <td>318158</td>\n",
       "      <td>318158</td>\n",
       "      <td>318158</td>\n",
       "      <td>318158</td>\n",
       "      <td>318158</td>\n",
       "      <td>318158</td>\n",
       "      <td>318158</td>\n",
       "      <td>318158</td>\n",
       "      <td>318158</td>\n",
       "      <td>318158</td>\n",
       "    </tr>\n",
       "    <tr>\n",
       "      <th>106.0</th>\n",
       "      <td>4461</td>\n",
       "      <td>4461</td>\n",
       "      <td>4461</td>\n",
       "      <td>4461</td>\n",
       "      <td>4461</td>\n",
       "      <td>4461</td>\n",
       "      <td>4461</td>\n",
       "      <td>4461</td>\n",
       "      <td>4461</td>\n",
       "      <td>4461</td>\n",
       "      <td>4461</td>\n",
       "    </tr>\n",
       "    <tr>\n",
       "      <th>107.0</th>\n",
       "      <td>257295</td>\n",
       "      <td>257295</td>\n",
       "      <td>257295</td>\n",
       "      <td>257295</td>\n",
       "      <td>257295</td>\n",
       "      <td>257295</td>\n",
       "      <td>257295</td>\n",
       "      <td>257295</td>\n",
       "      <td>257295</td>\n",
       "      <td>257295</td>\n",
       "      <td>257295</td>\n",
       "    </tr>\n",
       "  </tbody>\n",
       "</table>\n",
       "</div>"
      ],
      "text/plain": [
       "         index    label     well       id    P-PDG    P-TPT    T-TPT  \\\n",
       "class                                                                  \n",
       "0.0    7473635  7473635  7473635  7473635  7473635  7473635  7473635   \n",
       "1.0       5870     5870     5870     5870     5870     5870     5870   \n",
       "2.0       1309     1309     1309     1309     1309     1309     1309   \n",
       "3.0     568352   568352   568352   568352   568352   568352   568352   \n",
       "4.0    1218415  1218415  1218415  1218415  1218415  1218415  1218415   \n",
       "5.0      10147    10147    10147    10147    10147    10147    10147   \n",
       "6.0      12427    12427    12427    12427    12427    12427    12427   \n",
       "7.0        821      821      821      821      821      821      821   \n",
       "101.0    77814    77814    77814    77814    77814    77814    77814   \n",
       "102.0     7172     7172     7172     7172     7172     7172     7172   \n",
       "105.0   318158   318158   318158   318158   318158   318158   318158   \n",
       "106.0     4461     4461     4461     4461     4461     4461     4461   \n",
       "107.0   257295   257295   257295   257295   257295   257295   257295   \n",
       "\n",
       "       P-MON-CKP  T-JUS-CKP  P-JUS-CKGL      QGL  \n",
       "class                                             \n",
       "0.0      7473635    7473635     7473635  7473635  \n",
       "1.0         5870       5870        5870     5870  \n",
       "2.0         1309       1309        1309     1309  \n",
       "3.0       568352     568352      568352   568352  \n",
       "4.0      1218415    1218415     1218415  1218415  \n",
       "5.0        10147      10147       10147    10147  \n",
       "6.0        12427      12427       12427    12427  \n",
       "7.0          821        821         821      821  \n",
       "101.0      77814      77814       77814    77814  \n",
       "102.0       7172       7172        7172     7172  \n",
       "105.0     318158     318158      318158   318158  \n",
       "106.0       4461       4461        4461     4461  \n",
       "107.0     257295     257295      257295   257295  "
      ]
     },
     "execution_count": 15,
     "metadata": {},
     "output_type": "execute_result"
    }
   ],
   "source": [
    "df_nonulls.groupby(by='class').agg('count')"
   ]
  },
  {
   "cell_type": "markdown",
   "id": "1c367b6f",
   "metadata": {},
   "source": [
    "Select rows where class is either 0.0 (Normal) or 4.0 (Flow Instability)"
   ]
  },
  {
   "cell_type": "code",
   "execution_count": 16,
   "id": "37672ddd",
   "metadata": {},
   "outputs": [],
   "source": [
    "df = df_nonulls.loc[df_nonulls['class'].isin([0.0, 4.0])]"
   ]
  },
  {
   "cell_type": "code",
   "execution_count": 17,
   "id": "7c3e18c3",
   "metadata": {},
   "outputs": [
    {
     "data": {
      "text/html": [
       "<div>\n",
       "<style scoped>\n",
       "    .dataframe tbody tr th:only-of-type {\n",
       "        vertical-align: middle;\n",
       "    }\n",
       "\n",
       "    .dataframe tbody tr th {\n",
       "        vertical-align: top;\n",
       "    }\n",
       "\n",
       "    .dataframe thead th {\n",
       "        text-align: right;\n",
       "    }\n",
       "</style>\n",
       "<table border=\"1\" class=\"dataframe\">\n",
       "  <thead>\n",
       "    <tr style=\"text-align: right;\">\n",
       "      <th></th>\n",
       "      <th>index</th>\n",
       "      <th>label</th>\n",
       "      <th>well</th>\n",
       "      <th>id</th>\n",
       "      <th>P-PDG</th>\n",
       "      <th>P-TPT</th>\n",
       "      <th>T-TPT</th>\n",
       "      <th>P-MON-CKP</th>\n",
       "      <th>T-JUS-CKP</th>\n",
       "      <th>P-JUS-CKGL</th>\n",
       "      <th>QGL</th>\n",
       "      <th>class</th>\n",
       "    </tr>\n",
       "  </thead>\n",
       "  <tbody>\n",
       "    <tr>\n",
       "      <th>0</th>\n",
       "      <td>0</td>\n",
       "      <td>0</td>\n",
       "      <td>WELL-00002</td>\n",
       "      <td>20170625220127</td>\n",
       "      <td>0.0</td>\n",
       "      <td>8698015.0</td>\n",
       "      <td>117.6015</td>\n",
       "      <td>2142158.0</td>\n",
       "      <td>75.63453</td>\n",
       "      <td>2310426.0</td>\n",
       "      <td>0.0</td>\n",
       "      <td>0.0</td>\n",
       "    </tr>\n",
       "    <tr>\n",
       "      <th>1</th>\n",
       "      <td>1</td>\n",
       "      <td>0</td>\n",
       "      <td>WELL-00002</td>\n",
       "      <td>20170625220127</td>\n",
       "      <td>0.0</td>\n",
       "      <td>8698015.0</td>\n",
       "      <td>117.6014</td>\n",
       "      <td>2172395.0</td>\n",
       "      <td>75.65491</td>\n",
       "      <td>2310427.0</td>\n",
       "      <td>0.0</td>\n",
       "      <td>0.0</td>\n",
       "    </tr>\n",
       "    <tr>\n",
       "      <th>2</th>\n",
       "      <td>2</td>\n",
       "      <td>0</td>\n",
       "      <td>WELL-00002</td>\n",
       "      <td>20170625220127</td>\n",
       "      <td>0.0</td>\n",
       "      <td>8698015.0</td>\n",
       "      <td>117.6013</td>\n",
       "      <td>2202631.0</td>\n",
       "      <td>75.67529</td>\n",
       "      <td>2310427.0</td>\n",
       "      <td>0.0</td>\n",
       "      <td>0.0</td>\n",
       "    </tr>\n",
       "    <tr>\n",
       "      <th>3</th>\n",
       "      <td>3</td>\n",
       "      <td>0</td>\n",
       "      <td>WELL-00002</td>\n",
       "      <td>20170625220127</td>\n",
       "      <td>0.0</td>\n",
       "      <td>8698015.0</td>\n",
       "      <td>117.6012</td>\n",
       "      <td>2180472.0</td>\n",
       "      <td>75.69567</td>\n",
       "      <td>2310427.0</td>\n",
       "      <td>0.0</td>\n",
       "      <td>0.0</td>\n",
       "    </tr>\n",
       "    <tr>\n",
       "      <th>4</th>\n",
       "      <td>4</td>\n",
       "      <td>0</td>\n",
       "      <td>WELL-00002</td>\n",
       "      <td>20170625220127</td>\n",
       "      <td>0.0</td>\n",
       "      <td>8698015.0</td>\n",
       "      <td>117.6011</td>\n",
       "      <td>2158313.0</td>\n",
       "      <td>75.71606</td>\n",
       "      <td>2310428.0</td>\n",
       "      <td>0.0</td>\n",
       "      <td>0.0</td>\n",
       "    </tr>\n",
       "  </tbody>\n",
       "</table>\n",
       "</div>"
      ],
      "text/plain": [
       "   index  label        well              id  P-PDG      P-TPT     T-TPT  \\\n",
       "0      0      0  WELL-00002  20170625220127    0.0  8698015.0  117.6015   \n",
       "1      1      0  WELL-00002  20170625220127    0.0  8698015.0  117.6014   \n",
       "2      2      0  WELL-00002  20170625220127    0.0  8698015.0  117.6013   \n",
       "3      3      0  WELL-00002  20170625220127    0.0  8698015.0  117.6012   \n",
       "4      4      0  WELL-00002  20170625220127    0.0  8698015.0  117.6011   \n",
       "\n",
       "   P-MON-CKP  T-JUS-CKP  P-JUS-CKGL  QGL  class  \n",
       "0  2142158.0   75.63453   2310426.0  0.0    0.0  \n",
       "1  2172395.0   75.65491   2310427.0  0.0    0.0  \n",
       "2  2202631.0   75.67529   2310427.0  0.0    0.0  \n",
       "3  2180472.0   75.69567   2310427.0  0.0    0.0  \n",
       "4  2158313.0   75.71606   2310428.0  0.0    0.0  "
      ]
     },
     "execution_count": 17,
     "metadata": {},
     "output_type": "execute_result"
    }
   ],
   "source": [
    "df.head()"
   ]
  },
  {
   "cell_type": "markdown",
   "id": "4e6acd8a",
   "metadata": {},
   "source": [
    "Replace class value = 4.0 with 1.0"
   ]
  },
  {
   "cell_type": "code",
   "execution_count": 18,
   "id": "28343b22",
   "metadata": {},
   "outputs": [],
   "source": [
    "df.loc[df['class'] == 4.0, 'class'] = 1.0"
   ]
  },
  {
   "cell_type": "code",
   "execution_count": 19,
   "id": "9eb025ca",
   "metadata": {},
   "outputs": [
    {
     "data": {
      "text/html": [
       "<div>\n",
       "<style scoped>\n",
       "    .dataframe tbody tr th:only-of-type {\n",
       "        vertical-align: middle;\n",
       "    }\n",
       "\n",
       "    .dataframe tbody tr th {\n",
       "        vertical-align: top;\n",
       "    }\n",
       "\n",
       "    .dataframe thead th {\n",
       "        text-align: right;\n",
       "    }\n",
       "</style>\n",
       "<table border=\"1\" class=\"dataframe\">\n",
       "  <thead>\n",
       "    <tr style=\"text-align: right;\">\n",
       "      <th></th>\n",
       "      <th>index</th>\n",
       "      <th>label</th>\n",
       "      <th>well</th>\n",
       "      <th>id</th>\n",
       "      <th>P-PDG</th>\n",
       "      <th>P-TPT</th>\n",
       "      <th>T-TPT</th>\n",
       "      <th>P-MON-CKP</th>\n",
       "      <th>T-JUS-CKP</th>\n",
       "      <th>P-JUS-CKGL</th>\n",
       "      <th>QGL</th>\n",
       "    </tr>\n",
       "    <tr>\n",
       "      <th>class</th>\n",
       "      <th></th>\n",
       "      <th></th>\n",
       "      <th></th>\n",
       "      <th></th>\n",
       "      <th></th>\n",
       "      <th></th>\n",
       "      <th></th>\n",
       "      <th></th>\n",
       "      <th></th>\n",
       "      <th></th>\n",
       "      <th></th>\n",
       "    </tr>\n",
       "  </thead>\n",
       "  <tbody>\n",
       "    <tr>\n",
       "      <th>0.0</th>\n",
       "      <td>7473635</td>\n",
       "      <td>7473635</td>\n",
       "      <td>7473635</td>\n",
       "      <td>7473635</td>\n",
       "      <td>7473635</td>\n",
       "      <td>7473635</td>\n",
       "      <td>7473635</td>\n",
       "      <td>7473635</td>\n",
       "      <td>7473635</td>\n",
       "      <td>7473635</td>\n",
       "      <td>7473635</td>\n",
       "    </tr>\n",
       "    <tr>\n",
       "      <th>1.0</th>\n",
       "      <td>1218415</td>\n",
       "      <td>1218415</td>\n",
       "      <td>1218415</td>\n",
       "      <td>1218415</td>\n",
       "      <td>1218415</td>\n",
       "      <td>1218415</td>\n",
       "      <td>1218415</td>\n",
       "      <td>1218415</td>\n",
       "      <td>1218415</td>\n",
       "      <td>1218415</td>\n",
       "      <td>1218415</td>\n",
       "    </tr>\n",
       "  </tbody>\n",
       "</table>\n",
       "</div>"
      ],
      "text/plain": [
       "         index    label     well       id    P-PDG    P-TPT    T-TPT  \\\n",
       "class                                                                  \n",
       "0.0    7473635  7473635  7473635  7473635  7473635  7473635  7473635   \n",
       "1.0    1218415  1218415  1218415  1218415  1218415  1218415  1218415   \n",
       "\n",
       "       P-MON-CKP  T-JUS-CKP  P-JUS-CKGL      QGL  \n",
       "class                                             \n",
       "0.0      7473635    7473635     7473635  7473635  \n",
       "1.0      1218415    1218415     1218415  1218415  "
      ]
     },
     "execution_count": 19,
     "metadata": {},
     "output_type": "execute_result"
    }
   ],
   "source": [
    "df.groupby(by='class').agg('count')"
   ]
  },
  {
   "cell_type": "code",
   "execution_count": 20,
   "id": "49b1a7db",
   "metadata": {},
   "outputs": [
    {
     "data": {
      "text/html": [
       "<div>\n",
       "<style scoped>\n",
       "    .dataframe tbody tr th:only-of-type {\n",
       "        vertical-align: middle;\n",
       "    }\n",
       "\n",
       "    .dataframe tbody tr th {\n",
       "        vertical-align: top;\n",
       "    }\n",
       "\n",
       "    .dataframe thead th {\n",
       "        text-align: right;\n",
       "    }\n",
       "</style>\n",
       "<table border=\"1\" class=\"dataframe\">\n",
       "  <thead>\n",
       "    <tr style=\"text-align: right;\">\n",
       "      <th></th>\n",
       "      <th>index</th>\n",
       "      <th>label</th>\n",
       "      <th>well</th>\n",
       "      <th>id</th>\n",
       "      <th>P-PDG</th>\n",
       "      <th>P-TPT</th>\n",
       "      <th>T-TPT</th>\n",
       "      <th>P-MON-CKP</th>\n",
       "      <th>T-JUS-CKP</th>\n",
       "      <th>P-JUS-CKGL</th>\n",
       "      <th>QGL</th>\n",
       "      <th>class</th>\n",
       "    </tr>\n",
       "  </thead>\n",
       "  <tbody>\n",
       "    <tr>\n",
       "      <th>0</th>\n",
       "      <td>0</td>\n",
       "      <td>0</td>\n",
       "      <td>WELL-00002</td>\n",
       "      <td>20170625220127</td>\n",
       "      <td>0.0</td>\n",
       "      <td>8698015.0</td>\n",
       "      <td>117.6015</td>\n",
       "      <td>2142158.0</td>\n",
       "      <td>75.63453</td>\n",
       "      <td>2310426.0</td>\n",
       "      <td>0.0</td>\n",
       "      <td>0.0</td>\n",
       "    </tr>\n",
       "    <tr>\n",
       "      <th>1</th>\n",
       "      <td>1</td>\n",
       "      <td>0</td>\n",
       "      <td>WELL-00002</td>\n",
       "      <td>20170625220127</td>\n",
       "      <td>0.0</td>\n",
       "      <td>8698015.0</td>\n",
       "      <td>117.6014</td>\n",
       "      <td>2172395.0</td>\n",
       "      <td>75.65491</td>\n",
       "      <td>2310427.0</td>\n",
       "      <td>0.0</td>\n",
       "      <td>0.0</td>\n",
       "    </tr>\n",
       "    <tr>\n",
       "      <th>2</th>\n",
       "      <td>2</td>\n",
       "      <td>0</td>\n",
       "      <td>WELL-00002</td>\n",
       "      <td>20170625220127</td>\n",
       "      <td>0.0</td>\n",
       "      <td>8698015.0</td>\n",
       "      <td>117.6013</td>\n",
       "      <td>2202631.0</td>\n",
       "      <td>75.67529</td>\n",
       "      <td>2310427.0</td>\n",
       "      <td>0.0</td>\n",
       "      <td>0.0</td>\n",
       "    </tr>\n",
       "    <tr>\n",
       "      <th>3</th>\n",
       "      <td>3</td>\n",
       "      <td>0</td>\n",
       "      <td>WELL-00002</td>\n",
       "      <td>20170625220127</td>\n",
       "      <td>0.0</td>\n",
       "      <td>8698015.0</td>\n",
       "      <td>117.6012</td>\n",
       "      <td>2180472.0</td>\n",
       "      <td>75.69567</td>\n",
       "      <td>2310427.0</td>\n",
       "      <td>0.0</td>\n",
       "      <td>0.0</td>\n",
       "    </tr>\n",
       "    <tr>\n",
       "      <th>4</th>\n",
       "      <td>4</td>\n",
       "      <td>0</td>\n",
       "      <td>WELL-00002</td>\n",
       "      <td>20170625220127</td>\n",
       "      <td>0.0</td>\n",
       "      <td>8698015.0</td>\n",
       "      <td>117.6011</td>\n",
       "      <td>2158313.0</td>\n",
       "      <td>75.71606</td>\n",
       "      <td>2310428.0</td>\n",
       "      <td>0.0</td>\n",
       "      <td>0.0</td>\n",
       "    </tr>\n",
       "  </tbody>\n",
       "</table>\n",
       "</div>"
      ],
      "text/plain": [
       "   index  label        well              id  P-PDG      P-TPT     T-TPT  \\\n",
       "0      0      0  WELL-00002  20170625220127    0.0  8698015.0  117.6015   \n",
       "1      1      0  WELL-00002  20170625220127    0.0  8698015.0  117.6014   \n",
       "2      2      0  WELL-00002  20170625220127    0.0  8698015.0  117.6013   \n",
       "3      3      0  WELL-00002  20170625220127    0.0  8698015.0  117.6012   \n",
       "4      4      0  WELL-00002  20170625220127    0.0  8698015.0  117.6011   \n",
       "\n",
       "   P-MON-CKP  T-JUS-CKP  P-JUS-CKGL  QGL  class  \n",
       "0  2142158.0   75.63453   2310426.0  0.0    0.0  \n",
       "1  2172395.0   75.65491   2310427.0  0.0    0.0  \n",
       "2  2202631.0   75.67529   2310427.0  0.0    0.0  \n",
       "3  2180472.0   75.69567   2310427.0  0.0    0.0  \n",
       "4  2158313.0   75.71606   2310428.0  0.0    0.0  "
      ]
     },
     "execution_count": 20,
     "metadata": {},
     "output_type": "execute_result"
    }
   ],
   "source": [
    "df.head()"
   ]
  },
  {
   "cell_type": "code",
   "execution_count": 21,
   "id": "56b0364f",
   "metadata": {},
   "outputs": [],
   "source": [
    "df = df.drop(columns=['well'])"
   ]
  },
  {
   "cell_type": "code",
   "execution_count": 22,
   "id": "6a76b01d",
   "metadata": {},
   "outputs": [
    {
     "data": {
      "text/html": [
       "<div>\n",
       "<style scoped>\n",
       "    .dataframe tbody tr th:only-of-type {\n",
       "        vertical-align: middle;\n",
       "    }\n",
       "\n",
       "    .dataframe tbody tr th {\n",
       "        vertical-align: top;\n",
       "    }\n",
       "\n",
       "    .dataframe thead th {\n",
       "        text-align: right;\n",
       "    }\n",
       "</style>\n",
       "<table border=\"1\" class=\"dataframe\">\n",
       "  <thead>\n",
       "    <tr style=\"text-align: right;\">\n",
       "      <th></th>\n",
       "      <th>index</th>\n",
       "      <th>label</th>\n",
       "      <th>id</th>\n",
       "      <th>P-PDG</th>\n",
       "      <th>P-TPT</th>\n",
       "      <th>T-TPT</th>\n",
       "      <th>P-MON-CKP</th>\n",
       "      <th>T-JUS-CKP</th>\n",
       "      <th>P-JUS-CKGL</th>\n",
       "      <th>QGL</th>\n",
       "      <th>class</th>\n",
       "    </tr>\n",
       "  </thead>\n",
       "  <tbody>\n",
       "    <tr>\n",
       "      <th>0</th>\n",
       "      <td>0</td>\n",
       "      <td>0</td>\n",
       "      <td>20170625220127</td>\n",
       "      <td>0.0</td>\n",
       "      <td>8698015.0</td>\n",
       "      <td>117.6015</td>\n",
       "      <td>2142158.0</td>\n",
       "      <td>75.63453</td>\n",
       "      <td>2310426.0</td>\n",
       "      <td>0.0</td>\n",
       "      <td>0.0</td>\n",
       "    </tr>\n",
       "    <tr>\n",
       "      <th>1</th>\n",
       "      <td>1</td>\n",
       "      <td>0</td>\n",
       "      <td>20170625220127</td>\n",
       "      <td>0.0</td>\n",
       "      <td>8698015.0</td>\n",
       "      <td>117.6014</td>\n",
       "      <td>2172395.0</td>\n",
       "      <td>75.65491</td>\n",
       "      <td>2310427.0</td>\n",
       "      <td>0.0</td>\n",
       "      <td>0.0</td>\n",
       "    </tr>\n",
       "    <tr>\n",
       "      <th>2</th>\n",
       "      <td>2</td>\n",
       "      <td>0</td>\n",
       "      <td>20170625220127</td>\n",
       "      <td>0.0</td>\n",
       "      <td>8698015.0</td>\n",
       "      <td>117.6013</td>\n",
       "      <td>2202631.0</td>\n",
       "      <td>75.67529</td>\n",
       "      <td>2310427.0</td>\n",
       "      <td>0.0</td>\n",
       "      <td>0.0</td>\n",
       "    </tr>\n",
       "    <tr>\n",
       "      <th>3</th>\n",
       "      <td>3</td>\n",
       "      <td>0</td>\n",
       "      <td>20170625220127</td>\n",
       "      <td>0.0</td>\n",
       "      <td>8698015.0</td>\n",
       "      <td>117.6012</td>\n",
       "      <td>2180472.0</td>\n",
       "      <td>75.69567</td>\n",
       "      <td>2310427.0</td>\n",
       "      <td>0.0</td>\n",
       "      <td>0.0</td>\n",
       "    </tr>\n",
       "    <tr>\n",
       "      <th>4</th>\n",
       "      <td>4</td>\n",
       "      <td>0</td>\n",
       "      <td>20170625220127</td>\n",
       "      <td>0.0</td>\n",
       "      <td>8698015.0</td>\n",
       "      <td>117.6011</td>\n",
       "      <td>2158313.0</td>\n",
       "      <td>75.71606</td>\n",
       "      <td>2310428.0</td>\n",
       "      <td>0.0</td>\n",
       "      <td>0.0</td>\n",
       "    </tr>\n",
       "  </tbody>\n",
       "</table>\n",
       "</div>"
      ],
      "text/plain": [
       "   index  label              id  P-PDG      P-TPT     T-TPT  P-MON-CKP  \\\n",
       "0      0      0  20170625220127    0.0  8698015.0  117.6015  2142158.0   \n",
       "1      1      0  20170625220127    0.0  8698015.0  117.6014  2172395.0   \n",
       "2      2      0  20170625220127    0.0  8698015.0  117.6013  2202631.0   \n",
       "3      3      0  20170625220127    0.0  8698015.0  117.6012  2180472.0   \n",
       "4      4      0  20170625220127    0.0  8698015.0  117.6011  2158313.0   \n",
       "\n",
       "   T-JUS-CKP  P-JUS-CKGL  QGL  class  \n",
       "0   75.63453   2310426.0  0.0    0.0  \n",
       "1   75.65491   2310427.0  0.0    0.0  \n",
       "2   75.67529   2310427.0  0.0    0.0  \n",
       "3   75.69567   2310427.0  0.0    0.0  \n",
       "4   75.71606   2310428.0  0.0    0.0  "
      ]
     },
     "execution_count": 22,
     "metadata": {},
     "output_type": "execute_result"
    }
   ],
   "source": [
    "df.head()"
   ]
  },
  {
   "cell_type": "code",
   "execution_count": 23,
   "id": "63d7f03a",
   "metadata": {},
   "outputs": [],
   "source": [
    "df = df.drop(columns=['index'])"
   ]
  },
  {
   "cell_type": "code",
   "execution_count": 24,
   "id": "0120c6af",
   "metadata": {},
   "outputs": [
    {
     "data": {
      "text/plain": [
       "(8692050, 10)"
      ]
     },
     "execution_count": 24,
     "metadata": {},
     "output_type": "execute_result"
    }
   ],
   "source": [
    "df.shape"
   ]
  },
  {
   "cell_type": "code",
   "execution_count": 25,
   "id": "b68da58c",
   "metadata": {},
   "outputs": [
    {
     "data": {
      "text/html": [
       "<div>\n",
       "<style scoped>\n",
       "    .dataframe tbody tr th:only-of-type {\n",
       "        vertical-align: middle;\n",
       "    }\n",
       "\n",
       "    .dataframe tbody tr th {\n",
       "        vertical-align: top;\n",
       "    }\n",
       "\n",
       "    .dataframe thead th {\n",
       "        text-align: right;\n",
       "    }\n",
       "</style>\n",
       "<table border=\"1\" class=\"dataframe\">\n",
       "  <thead>\n",
       "    <tr style=\"text-align: right;\">\n",
       "      <th></th>\n",
       "      <th>label</th>\n",
       "      <th>id</th>\n",
       "      <th>P-PDG</th>\n",
       "      <th>P-TPT</th>\n",
       "      <th>T-TPT</th>\n",
       "      <th>P-MON-CKP</th>\n",
       "      <th>T-JUS-CKP</th>\n",
       "      <th>P-JUS-CKGL</th>\n",
       "      <th>QGL</th>\n",
       "      <th>class</th>\n",
       "    </tr>\n",
       "  </thead>\n",
       "  <tbody>\n",
       "    <tr>\n",
       "      <th>0</th>\n",
       "      <td>0</td>\n",
       "      <td>20170625220127</td>\n",
       "      <td>0.0</td>\n",
       "      <td>8698015.0</td>\n",
       "      <td>117.6015</td>\n",
       "      <td>2142158.0</td>\n",
       "      <td>75.63453</td>\n",
       "      <td>2310426.0</td>\n",
       "      <td>0.0</td>\n",
       "      <td>0.0</td>\n",
       "    </tr>\n",
       "    <tr>\n",
       "      <th>1</th>\n",
       "      <td>0</td>\n",
       "      <td>20170625220127</td>\n",
       "      <td>0.0</td>\n",
       "      <td>8698015.0</td>\n",
       "      <td>117.6014</td>\n",
       "      <td>2172395.0</td>\n",
       "      <td>75.65491</td>\n",
       "      <td>2310427.0</td>\n",
       "      <td>0.0</td>\n",
       "      <td>0.0</td>\n",
       "    </tr>\n",
       "    <tr>\n",
       "      <th>2</th>\n",
       "      <td>0</td>\n",
       "      <td>20170625220127</td>\n",
       "      <td>0.0</td>\n",
       "      <td>8698015.0</td>\n",
       "      <td>117.6013</td>\n",
       "      <td>2202631.0</td>\n",
       "      <td>75.67529</td>\n",
       "      <td>2310427.0</td>\n",
       "      <td>0.0</td>\n",
       "      <td>0.0</td>\n",
       "    </tr>\n",
       "    <tr>\n",
       "      <th>3</th>\n",
       "      <td>0</td>\n",
       "      <td>20170625220127</td>\n",
       "      <td>0.0</td>\n",
       "      <td>8698015.0</td>\n",
       "      <td>117.6012</td>\n",
       "      <td>2180472.0</td>\n",
       "      <td>75.69567</td>\n",
       "      <td>2310427.0</td>\n",
       "      <td>0.0</td>\n",
       "      <td>0.0</td>\n",
       "    </tr>\n",
       "    <tr>\n",
       "      <th>4</th>\n",
       "      <td>0</td>\n",
       "      <td>20170625220127</td>\n",
       "      <td>0.0</td>\n",
       "      <td>8698015.0</td>\n",
       "      <td>117.6011</td>\n",
       "      <td>2158313.0</td>\n",
       "      <td>75.71606</td>\n",
       "      <td>2310428.0</td>\n",
       "      <td>0.0</td>\n",
       "      <td>0.0</td>\n",
       "    </tr>\n",
       "  </tbody>\n",
       "</table>\n",
       "</div>"
      ],
      "text/plain": [
       "   label              id  P-PDG      P-TPT     T-TPT  P-MON-CKP  T-JUS-CKP  \\\n",
       "0      0  20170625220127    0.0  8698015.0  117.6015  2142158.0   75.63453   \n",
       "1      0  20170625220127    0.0  8698015.0  117.6014  2172395.0   75.65491   \n",
       "2      0  20170625220127    0.0  8698015.0  117.6013  2202631.0   75.67529   \n",
       "3      0  20170625220127    0.0  8698015.0  117.6012  2180472.0   75.69567   \n",
       "4      0  20170625220127    0.0  8698015.0  117.6011  2158313.0   75.71606   \n",
       "\n",
       "   P-JUS-CKGL  QGL  class  \n",
       "0   2310426.0  0.0    0.0  \n",
       "1   2310427.0  0.0    0.0  \n",
       "2   2310427.0  0.0    0.0  \n",
       "3   2310427.0  0.0    0.0  \n",
       "4   2310428.0  0.0    0.0  "
      ]
     },
     "execution_count": 25,
     "metadata": {},
     "output_type": "execute_result"
    }
   ],
   "source": [
    "df.head()"
   ]
  },
  {
   "cell_type": "markdown",
   "id": "1caa6279",
   "metadata": {},
   "source": [
    "## Splitting the data"
   ]
  },
  {
   "cell_type": "code",
   "execution_count": 26,
   "id": "ac8c36b3",
   "metadata": {
    "ExecuteTime": {
     "end_time": "2022-11-17T13:41:32.571303Z",
     "start_time": "2022-11-17T13:41:32.556156Z"
    }
   },
   "outputs": [
    {
     "data": {
      "text/plain": [
       "((8692050, 9), (8692050,))"
      ]
     },
     "execution_count": 26,
     "metadata": {},
     "output_type": "execute_result"
    }
   ],
   "source": [
    "# Store first 9 columns in an array X \n",
    "X = df.iloc[:,:9]\n",
    "\n",
    "# Store the target variable as lable into an array y\n",
    "y = df.iloc[:,9]\n",
    "\n",
    "# Display number of rows and columns\n",
    "X.shape, y.shape"
   ]
  },
  {
   "cell_type": "code",
   "execution_count": 27,
   "id": "3cddf8ff",
   "metadata": {
    "ExecuteTime": {
     "end_time": "2022-11-17T13:41:34.012803Z",
     "start_time": "2022-11-17T13:41:33.995289Z"
    }
   },
   "outputs": [
    {
     "name": "stdout",
     "output_type": "stream",
     "text": [
      "         label              id       P-PDG       P-TPT      T-TPT  P-MON-CKP  \\\n",
      "0            0  20170625220127         0.0   8698015.0  117.60150  2142158.0   \n",
      "1            0  20170625220127         0.0   8698015.0  117.60140  2172395.0   \n",
      "2            0  20170625220127         0.0   8698015.0  117.60130  2202631.0   \n",
      "3            0  20170625220127         0.0   8698015.0  117.60120  2180472.0   \n",
      "4            0  20170625220127         0.0   8698015.0  117.60110  2158313.0   \n",
      "...        ...             ...         ...         ...        ...        ...   \n",
      "9953075      5  20180426145108  24385650.0  11138830.0   71.30707   832998.4   \n",
      "9953076      5  20180426145108  24387590.0  11139520.0   71.27717   832544.6   \n",
      "9953077      5  20180426145108  24389540.0  11140210.0   71.24727   832090.9   \n",
      "9953078      5  20180426145108  24391490.0  11140900.0   71.21737   831637.2   \n",
      "9953079      5  20180426145108  24393440.0  11141590.0   71.18747   831183.4   \n",
      "\n",
      "         T-JUS-CKP  P-JUS-CKGL       QGL  \n",
      "0         75.63453   2310426.0  0.000000  \n",
      "1         75.65491   2310427.0  0.000000  \n",
      "2         75.67529   2310427.0  0.000000  \n",
      "3         75.69567   2310427.0  0.000000  \n",
      "4         75.71606   2310428.0  0.000000  \n",
      "...            ...         ...       ...  \n",
      "9953075   55.14083  18119200.0  0.627697  \n",
      "9953076   55.13647  18119270.0  0.637987  \n",
      "9953077   55.13211  18119350.0  0.648277  \n",
      "9953078   55.12776  18119430.0  0.658567  \n",
      "9953079   55.12340  18119510.0  0.668857  \n",
      "\n",
      "[8692050 rows x 9 columns] 0          0.0\n",
      "1          0.0\n",
      "2          0.0\n",
      "3          0.0\n",
      "4          0.0\n",
      "          ... \n",
      "9953075    0.0\n",
      "9953076    0.0\n",
      "9953077    0.0\n",
      "9953078    0.0\n",
      "9953079    0.0\n",
      "Name: class, Length: 8692050, dtype: float64\n"
     ]
    }
   ],
   "source": [
    "print(X,y)"
   ]
  },
  {
   "cell_type": "code",
   "execution_count": 28,
   "id": "a0b6a63d",
   "metadata": {
    "ExecuteTime": {
     "end_time": "2022-11-17T13:41:34.898978Z",
     "start_time": "2022-11-17T13:41:34.884642Z"
    }
   },
   "outputs": [],
   "source": [
    "# Load libraries\n",
    "import pandas as pd\n",
    "from sklearn.tree import DecisionTreeClassifier       # Import Decision Tree Classifier\n",
    "from sklearn.model_selection import train_test_split  # Import train_test_split function\n",
    "from sklearn import metrics                           # Import scikit-learn metrics module for accuracy calculation\n",
    "from sklearn import tree\n",
    "\n",
    "import warnings\n",
    "warnings.filterwarnings('ignore') # We can suppress the warnings"
   ]
  },
  {
   "cell_type": "markdown",
   "id": "8fdee733",
   "metadata": {},
   "source": [
    "## Balancing"
   ]
  },
  {
   "cell_type": "code",
   "execution_count": 65,
   "id": "84b4e86a",
   "metadata": {},
   "outputs": [
    {
     "name": "stdout",
     "output_type": "stream",
     "text": [
      "[(0.0, 1218415), (1.0, 1218415)]\n"
     ]
    },
    {
     "data": {
      "text/plain": [
       "((2436830, 9), (2436830,))"
      ]
     },
     "execution_count": 65,
     "metadata": {},
     "output_type": "execute_result"
    }
   ],
   "source": [
    "from collections import Counter\n",
    "\n",
    "from imblearn.under_sampling import RandomUnderSampler\n",
    "rus = RandomUnderSampler(random_state=0)\n",
    "X_resampled, y_resampled = rus.fit_resample(X, y)\n",
    "print(sorted(Counter(y_resampled).items()))\n",
    "\n",
    "#X_resampled, y_resampled = SMOTE(sampling_strategy= 0.7, n_jobs= -1, random_state=42).fit_resample(X, y)\n",
    "#print(sorted(Counter(y_resampled).items()))\n",
    "X_resampled.shape, y_resampled.shape \n",
    "#[(0, 4674), (1, 4674), (2, 4674)]\n",
    "\n",
    "#X_resampled, y_resampled = ADASYN().fit_resample(X, y)\n",
    "#print(sorted(Counter(y_resampled).items()))\n",
    "#[(0, 4673), (1, 4662), (2, 4674)]\n",
    "#clf_adasyn = LinearSVC().fit(X_resampled, y_resampled)"
   ]
  },
  {
   "cell_type": "code",
   "execution_count": 66,
   "id": "c135fe10",
   "metadata": {},
   "outputs": [
    {
     "data": {
      "text/plain": [
       "((1949464, 9), (487366, 9))"
      ]
     },
     "execution_count": 66,
     "metadata": {},
     "output_type": "execute_result"
    }
   ],
   "source": [
    "# Splitting the dataset into the Training set and Test set\n",
    "from sklearn.model_selection import train_test_split\n",
    "\n",
    "# Split the dataset (X, y) into training and testing\n",
    "X_train, X_test, y_train, y_test = train_test_split(X_resampled, y_resampled, test_size = 0.20, random_state = 82)\n",
    "\n",
    "# Display rows and columns\n",
    "X_train.shape, X_test.shape"
   ]
  },
  {
   "cell_type": "code",
   "execution_count": 67,
   "id": "d15a6928",
   "metadata": {},
   "outputs": [],
   "source": [
    "# Feature Scaling to bring the variable in a single scale\n",
    "from sklearn.preprocessing import StandardScaler, MaxAbsScaler\n",
    "\n",
    "# Create an initialise an object sc by calling a method StandardScaler()\n",
    "sc = MaxAbsScaler()\n",
    "\n",
    "# Train the model by calling a method fit_transform\n",
    "X_train = sc.fit_transform(X_train)\n",
    "\n",
    "# Store the transformed data into X_test\n",
    "X_test = sc.transform(X_test)"
   ]
  },
  {
   "cell_type": "code",
   "execution_count": 68,
   "id": "1cc72ad8",
   "metadata": {},
   "outputs": [
    {
     "data": {
      "text/html": [
       "<style>#sk-container-id-6 {color: black;background-color: white;}#sk-container-id-6 pre{padding: 0;}#sk-container-id-6 div.sk-toggleable {background-color: white;}#sk-container-id-6 label.sk-toggleable__label {cursor: pointer;display: block;width: 100%;margin-bottom: 0;padding: 0.3em;box-sizing: border-box;text-align: center;}#sk-container-id-6 label.sk-toggleable__label-arrow:before {content: \"▸\";float: left;margin-right: 0.25em;color: #696969;}#sk-container-id-6 label.sk-toggleable__label-arrow:hover:before {color: black;}#sk-container-id-6 div.sk-estimator:hover label.sk-toggleable__label-arrow:before {color: black;}#sk-container-id-6 div.sk-toggleable__content {max-height: 0;max-width: 0;overflow: hidden;text-align: left;background-color: #f0f8ff;}#sk-container-id-6 div.sk-toggleable__content pre {margin: 0.2em;color: black;border-radius: 0.25em;background-color: #f0f8ff;}#sk-container-id-6 input.sk-toggleable__control:checked~div.sk-toggleable__content {max-height: 200px;max-width: 100%;overflow: auto;}#sk-container-id-6 input.sk-toggleable__control:checked~label.sk-toggleable__label-arrow:before {content: \"▾\";}#sk-container-id-6 div.sk-estimator input.sk-toggleable__control:checked~label.sk-toggleable__label {background-color: #d4ebff;}#sk-container-id-6 div.sk-label input.sk-toggleable__control:checked~label.sk-toggleable__label {background-color: #d4ebff;}#sk-container-id-6 input.sk-hidden--visually {border: 0;clip: rect(1px 1px 1px 1px);clip: rect(1px, 1px, 1px, 1px);height: 1px;margin: -1px;overflow: hidden;padding: 0;position: absolute;width: 1px;}#sk-container-id-6 div.sk-estimator {font-family: monospace;background-color: #f0f8ff;border: 1px dotted black;border-radius: 0.25em;box-sizing: border-box;margin-bottom: 0.5em;}#sk-container-id-6 div.sk-estimator:hover {background-color: #d4ebff;}#sk-container-id-6 div.sk-parallel-item::after {content: \"\";width: 100%;border-bottom: 1px solid gray;flex-grow: 1;}#sk-container-id-6 div.sk-label:hover label.sk-toggleable__label {background-color: #d4ebff;}#sk-container-id-6 div.sk-serial::before {content: \"\";position: absolute;border-left: 1px solid gray;box-sizing: border-box;top: 0;bottom: 0;left: 50%;z-index: 0;}#sk-container-id-6 div.sk-serial {display: flex;flex-direction: column;align-items: center;background-color: white;padding-right: 0.2em;padding-left: 0.2em;position: relative;}#sk-container-id-6 div.sk-item {position: relative;z-index: 1;}#sk-container-id-6 div.sk-parallel {display: flex;align-items: stretch;justify-content: center;background-color: white;position: relative;}#sk-container-id-6 div.sk-item::before, #sk-container-id-6 div.sk-parallel-item::before {content: \"\";position: absolute;border-left: 1px solid gray;box-sizing: border-box;top: 0;bottom: 0;left: 50%;z-index: -1;}#sk-container-id-6 div.sk-parallel-item {display: flex;flex-direction: column;z-index: 1;position: relative;background-color: white;}#sk-container-id-6 div.sk-parallel-item:first-child::after {align-self: flex-end;width: 50%;}#sk-container-id-6 div.sk-parallel-item:last-child::after {align-self: flex-start;width: 50%;}#sk-container-id-6 div.sk-parallel-item:only-child::after {width: 0;}#sk-container-id-6 div.sk-dashed-wrapped {border: 1px dashed gray;margin: 0 0.4em 0.5em 0.4em;box-sizing: border-box;padding-bottom: 0.4em;background-color: white;}#sk-container-id-6 div.sk-label label {font-family: monospace;font-weight: bold;display: inline-block;line-height: 1.2em;}#sk-container-id-6 div.sk-label-container {text-align: center;}#sk-container-id-6 div.sk-container {/* jupyter's `normalize.less` sets `[hidden] { display: none; }` but bootstrap.min.css set `[hidden] { display: none !important; }` so we also need the `!important` here to be able to override the default hidden behavior on the sphinx rendered scikit-learn.org. See: https://github.com/scikit-learn/scikit-learn/issues/21755 */display: inline-block !important;position: relative;}#sk-container-id-6 div.sk-text-repr-fallback {display: none;}</style><div id=\"sk-container-id-6\" class=\"sk-top-container\"><div class=\"sk-text-repr-fallback\"><pre>GaussianNB()</pre><b>In a Jupyter environment, please rerun this cell to show the HTML representation or trust the notebook. <br />On GitHub, the HTML representation is unable to render, please try loading this page with nbviewer.org.</b></div><div class=\"sk-container\" hidden><div class=\"sk-item\"><div class=\"sk-estimator sk-toggleable\"><input class=\"sk-toggleable__control sk-hidden--visually\" id=\"sk-estimator-id-6\" type=\"checkbox\" checked><label for=\"sk-estimator-id-6\" class=\"sk-toggleable__label sk-toggleable__label-arrow\">GaussianNB</label><div class=\"sk-toggleable__content\"><pre>GaussianNB()</pre></div></div></div></div></div>"
      ],
      "text/plain": [
       "GaussianNB()"
      ]
     },
     "execution_count": 68,
     "metadata": {},
     "output_type": "execute_result"
    }
   ],
   "source": [
    "# Fitting Naive Bayes Classification to the Training set with linear kernel\n",
    "from sklearn.naive_bayes import GaussianNB\n",
    "\n",
    "# Create an initialise an object 'nvclassifier' by calling a method 'GaussianNB()'\n",
    "nvclassifier = GaussianNB()\n",
    "\n",
    "# Call fit() method for training the dataset\n",
    "nvclassifier.fit(X_train, y_train)"
   ]
  },
  {
   "cell_type": "code",
   "execution_count": 69,
   "id": "8674813e",
   "metadata": {},
   "outputs": [
    {
     "name": "stdout",
     "output_type": "stream",
     "text": [
      "[1. 1. 0. ... 0. 0. 1.]\n"
     ]
    }
   ],
   "source": [
    "# Predicting the Test set results\n",
    "y_pred = nvclassifier.predict(X_test)\n",
    "\n",
    "# Display the predicted values\n",
    "print(y_pred)"
   ]
  },
  {
   "cell_type": "code",
   "execution_count": 70,
   "id": "053d2afb",
   "metadata": {},
   "outputs": [],
   "source": [
    "import numpy as np\n",
    "import matplotlib.pyplot as plt\n",
    "import matplotlib.image as mpimg"
   ]
  },
  {
   "cell_type": "code",
   "execution_count": 71,
   "id": "8a36c045",
   "metadata": {},
   "outputs": [
    {
     "data": {
      "text/plain": [
       "array([[1., 1.],\n",
       "       [1., 1.],\n",
       "       [0., 0.],\n",
       "       [0., 0.],\n",
       "       [1., 1.],\n",
       "       [0., 0.],\n",
       "       [1., 1.],\n",
       "       [0., 0.],\n",
       "       [1., 1.],\n",
       "       [0., 0.]])"
      ]
     },
     "execution_count": 71,
     "metadata": {},
     "output_type": "execute_result"
    }
   ],
   "source": [
    "# Check the actual and predicted value side by side\n",
    "y_compare = np.vstack((y_test,y_pred)).T\n",
    "# actual value on the left side and predicted value on the right hand side\n",
    "# printing the top 10 values\n",
    "y_compare[:10,:]"
   ]
  },
  {
   "cell_type": "code",
   "execution_count": 72,
   "id": "349ce73f",
   "metadata": {},
   "outputs": [
    {
     "name": "stdout",
     "output_type": "stream",
     "text": [
      "              precision    recall  f1-score   support\n",
      "\n",
      "         0.0       1.00      1.00      1.00    243913\n",
      "         1.0       1.00      1.00      1.00    243453\n",
      "\n",
      "    accuracy                           1.00    487366\n",
      "   macro avg       1.00      1.00      1.00    487366\n",
      "weighted avg       1.00      1.00      1.00    487366\n",
      "\n"
     ]
    }
   ],
   "source": [
    "# Model Accuracy, how often is the classifier correct?\n",
    "# In case of any errors, install conda install python-graphviz     on the command line\n",
    "from sklearn.metrics import classification_report\n",
    "\n",
    "# Display the classification report\n",
    "print(classification_report(y_test, y_pred))"
   ]
  },
  {
   "cell_type": "code",
   "execution_count": 73,
   "id": "4834c016",
   "metadata": {},
   "outputs": [
    {
     "name": "stdout",
     "output_type": "stream",
     "text": [
      "Accuracy: 1.0\n"
     ]
    }
   ],
   "source": [
    "# Model Accuracy, how often is the classifier correct?\n",
    "print(\"Accuracy:\",metrics.accuracy_score(y_test, y_pred))"
   ]
  },
  {
   "cell_type": "code",
   "execution_count": 74,
   "id": "96afa31b",
   "metadata": {},
   "outputs": [
    {
     "name": "stdout",
     "output_type": "stream",
     "text": [
      "[[243913      0]\n",
      " [     0 243453]] (2, 2)\n"
     ]
    },
    {
     "data": {
      "image/png": "[encoded data removed]",
      "text/plain": [
       "<Figure size 640x480 with 2 Axes>"
      ]
     },
     "metadata": {},
     "output_type": "display_data"
    }
   ],
   "source": [
    "# Construct the Confusion Matrix\n",
    "from sklearn.metrics import confusion_matrix\n",
    "import seaborn as sns\n",
    "\n",
    "# Create and initialise an object 'cm' by calling a method 'confusion_matrix()'\n",
    "cm = confusion_matrix(y_test, y_pred)\n",
    "\n",
    "# Call a method heatmap() to plot confusion matrix\n",
    "sns.heatmap(cm, annot = True)\n",
    "\n",
    "print(cm, cm.shape)"
   ]
  },
  {
   "cell_type": "code",
   "execution_count": 76,
   "id": "81a9d6c9",
   "metadata": {},
   "outputs": [
    {
     "data": {
      "text/plain": [
       "0.5009532876712515"
      ]
     },
     "execution_count": 76,
     "metadata": {},
     "output_type": "execute_result"
    }
   ],
   "source": [
    "from sklearn.model_selection import cross_val_score\n",
    "\n",
    "# Create an initialise an object 'nvclassifier' by calling a method 'GaussianNB()'\n",
    "nvclassifier = GaussianNB()\n",
    "\n",
    "# Calculate the score using cross validation method\n",
    "cross_val_score(nvclassifier, X_resampled, y_resampled, scoring = 'accuracy', cv = 20).mean()"
   ]
  },
  {
   "cell_type": "code",
   "execution_count": 77,
   "id": "ae550c7b",
   "metadata": {},
   "outputs": [],
   "source": [
    "from sklearn.svm import LinearSVC\n",
    "\n",
    "clf = LinearSVC().fit(X_train, y_train)"
   ]
  },
  {
   "cell_type": "code",
   "execution_count": 78,
   "id": "39a3e496",
   "metadata": {},
   "outputs": [],
   "source": [
    "y_pred = clf.predict(X_test)"
   ]
  },
  {
   "cell_type": "code",
   "execution_count": 79,
   "id": "0ab5d0bb",
   "metadata": {},
   "outputs": [
    {
     "name": "stdout",
     "output_type": "stream",
     "text": [
      "              precision    recall  f1-score   support\n",
      "\n",
      "         0.0       1.00      0.99      1.00    243913\n",
      "         1.0       0.99      1.00      1.00    243453\n",
      "\n",
      "    accuracy                           1.00    487366\n",
      "   macro avg       1.00      1.00      1.00    487366\n",
      "weighted avg       1.00      1.00      1.00    487366\n",
      "\n"
     ]
    }
   ],
   "source": [
    "# Model Accuracy, how often is the classifier correct?\n",
    "# In case of any errors, install conda install python-graphviz     on the command line\n",
    "from sklearn.metrics import classification_report\n",
    "\n",
    "# Display the classification report\n",
    "print(classification_report(y_test, y_pred))"
   ]
  },
  {
   "cell_type": "code",
   "execution_count": 80,
   "id": "6450e4e1",
   "metadata": {},
   "outputs": [
    {
     "name": "stdout",
     "output_type": "stream",
     "text": [
      "[[242614   1299]\n",
      " [    22 243431]] (2, 2)\n"
     ]
    },
    {
     "data": {
      "image/png": "[encoded data removed]",
      "text/plain": [
       "<Figure size 640x480 with 2 Axes>"
      ]
     },
     "metadata": {},
     "output_type": "display_data"
    }
   ],
   "source": [
    "# Construct the Confusion Matrix\n",
    "from sklearn.metrics import confusion_matrix\n",
    "import seaborn as sns\n",
    "\n",
    "# Create and initialise an object 'cm' by calling a method 'confusion_matrix()'\n",
    "cm = confusion_matrix(y_test, y_pred)\n",
    "\n",
    "# Call a method heatmap() to plot confusion matrix\n",
    "sns.heatmap(cm, annot = True)\n",
    "\n",
    "print(cm, cm.shape)"
   ]
  }
 ],
 "metadata": {
  "kernelspec": {
   "display_name": "Python 3 (ipykernel)",
   "language": "python",
   "name": "python3"
  },
  "language_info": {
   "codemirror_mode": {
    "name": "ipython",
    "version": 3
   },
   "file_extension": ".py",
   "mimetype": "text/x-python",
   "name": "python",
   "nbconvert_exporter": "python",
   "pygments_lexer": "ipython3",
   "version": "3.9.13"
  }
 },
 "nbformat": 4,
 "nbformat_minor": 5
}
